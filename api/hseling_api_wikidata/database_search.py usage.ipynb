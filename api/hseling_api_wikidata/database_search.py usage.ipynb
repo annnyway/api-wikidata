{
 "cells": [
  {
   "cell_type": "code",
   "execution_count": 1,
   "metadata": {},
   "outputs": [],
   "source": [
    "from pymystem3 import Mystem\n",
    "from string import punctuation\n",
    "from database_search import DatabaseSearch, NotFoundError\n",
    "from connect_to_db import connect\n",
    "\n",
    "punct = punctuation+'«»—…“”*–'\n",
    "morph = Mystem()\n",
    "\n",
    "def search(ngrams:list):\n",
    "    cursor = connect(\"../wikidata.db\")\n",
    "    try: \n",
    "        data = DatabaseSearch(ngrams=ngrams, \n",
    "                              morph=morph, \n",
    "                              punct=punct,\n",
    "                              cursor=cursor)\n",
    "        \n",
    "        return {\"ngrams\": data.ngrams, \n",
    "                \"dict_result\": data.dict_format,\n",
    "                \"csv_result\": data.csv_format,\n",
    "                \"coordinates\": data.coordinates)\n",
    "        \n",
    "    except NotFoundError:\n",
    "        print(\"Ngrams not found\")"
   ]
  },
  {
   "cell_type": "code",
   "execution_count": 2,
   "metadata": {},
   "outputs": [],
   "source": [
    "out = search([\"антипротон\", \"москва\"])"
   ]
  },
  {
   "cell_type": "code",
   "execution_count": 3,
   "metadata": {
    "scrolled": false
   },
   "outputs": [
    {
     "data": {
      "text/plain": [
       "{'ngrams': ['антипротон', 'москва'],\n",
       " 'dict_result': [{'ngram': 'антипротон',\n",
       "   'start_letter': 'а',\n",
       "   'Q_number': 'Q107575',\n",
       "   'wiki_entity': 'антипротон',\n",
       "   'property_code': 'P575',\n",
       "   'property_value': 'дата открытия',\n",
       "   'object': None,\n",
       "   'organization': None,\n",
       "   'just_date': '1955-01-01',\n",
       "   'start_time': None,\n",
       "   'end_time': None,\n",
       "   'time_point': None,\n",
       "   'growth_speed': 1.940934568688324,\n",
       "   'google_year_1': 1956,\n",
       "   'google_year_2': None,\n",
       "   'id': 11778,\n",
       "   'entry_id': 0},\n",
       "  {'ngram': 'москва',\n",
       "   'start_letter': 'м',\n",
       "   'Q_number': 'Q1949026',\n",
       "   'wiki_entity': 'Москва',\n",
       "   'property_code': 'P571',\n",
       "   'property_value': 'дата основания\\u202f/\\u2009создания\\u202f/\\u2009возникновения',\n",
       "   'object': None,\n",
       "   'organization': None,\n",
       "   'just_date': '2009-01-01',\n",
       "   'start_time': None,\n",
       "   'end_time': None,\n",
       "   'time_point': None,\n",
       "   'growth_speed': 2.683365739272918,\n",
       "   'google_year_1': 2009,\n",
       "   'google_year_2': None,\n",
       "   'id': 6964,\n",
       "   'entry_id': 1},\n",
       "  {'ngram': 'москва',\n",
       "   'start_letter': 'м',\n",
       "   'Q_number': 'Q591977',\n",
       "   'wiki_entity': 'Москва',\n",
       "   'property_code': 'P31',\n",
       "   'property_value': 'это частный случай понятия',\n",
       "   'object': 'утраченное здание или сооружение',\n",
       "   'organization': None,\n",
       "   'just_date': None,\n",
       "   'start_time': '1994-01-01',\n",
       "   'end_time': None,\n",
       "   'time_point': None,\n",
       "   'growth_speed': 1.8467694915057624,\n",
       "   'google_year_1': 1994,\n",
       "   'google_year_2': None,\n",
       "   'id': 6965,\n",
       "   'entry_id': 2},\n",
       "  {'ngram': 'москва',\n",
       "   'start_letter': 'м',\n",
       "   'Q_number': 'Q591977',\n",
       "   'wiki_entity': 'Москва',\n",
       "   'property_code': 'P31',\n",
       "   'property_value': 'это частный случай понятия',\n",
       "   'object': 'уличный бассейн',\n",
       "   'organization': None,\n",
       "   'just_date': None,\n",
       "   'start_time': '1960-01-01',\n",
       "   'end_time': '1994-01-01',\n",
       "   'time_point': None,\n",
       "   'growth_speed': 1.8467694915057624,\n",
       "   'google_year_1': 1994,\n",
       "   'google_year_2': None,\n",
       "   'id': 6966,\n",
       "   'entry_id': 3},\n",
       "  {'ngram': 'москва',\n",
       "   'start_letter': 'м',\n",
       "   'Q_number': 'Q4303740',\n",
       "   'wiki_entity': 'Москва',\n",
       "   'property_code': 'P577',\n",
       "   'property_value': 'дата публикации',\n",
       "   'object': None,\n",
       "   'organization': None,\n",
       "   'just_date': '1997-01-01',\n",
       "   'start_time': None,\n",
       "   'end_time': None,\n",
       "   'time_point': None,\n",
       "   'growth_speed': 2.2215372553504924,\n",
       "   'google_year_1': 1997,\n",
       "   'google_year_2': None,\n",
       "   'id': 6967,\n",
       "   'entry_id': 4},\n",
       "  {'ngram': 'москва',\n",
       "   'start_letter': 'м',\n",
       "   'Q_number': 'Q591977',\n",
       "   'wiki_entity': 'Москва',\n",
       "   'property_code': 'P793',\n",
       "   'property_value': 'ключевое событие',\n",
       "   'object': 'строительство',\n",
       "   'organization': None,\n",
       "   'just_date': None,\n",
       "   'start_time': '1958-01-01',\n",
       "   'end_time': '1960-01-01',\n",
       "   'time_point': None,\n",
       "   'growth_speed': 1.723838472592471,\n",
       "   'google_year_1': 2008,\n",
       "   'google_year_2': None,\n",
       "   'id': 6968,\n",
       "   'entry_id': 5}],\n",
       " 'csv_result': ',entry_id,ngram,wiki_entity,Q_number,property_code,property_value,object,organization,just_date,start_time,end_time,time_point,growth_speed,google_year_1,google_year_2\\n0,0,антипротон,антипротон,Q107575,P575,дата открытия,,,1955-01-01,,,,1.940934568688324,1956,\\n1,1,москва,Москва,Q1949026,P571,дата основания\\u202f/\\u2009создания\\u202f/\\u2009возникновения,,,2009-01-01,,,,2.683365739272918,2009,\\n2,2,москва,Москва,Q591977,P31,это частный случай понятия,утраченное здание или сооружение,,,1994-01-01,,,1.8467694915057624,1994,\\n3,3,москва,Москва,Q591977,P31,это частный случай понятия,уличный бассейн,,,1960-01-01,1994-01-01,,1.8467694915057624,1994,\\n4,4,москва,Москва,Q4303740,P577,дата публикации,,,1997-01-01,,,,2.2215372553504924,1997,\\n5,5,москва,Москва,Q591977,P793,ключевое событие,строительство,,,1958-01-01,1960-01-01,,1.723838472592471,2008,\\n',\n",
       " 'coordinates': [[(0, 1956, 1.940934568688324)],\n",
       "  [(2, 1994, 1.8467694915057624),\n",
       "   (3, 1994, 1.8467694915057624),\n",
       "   (4, 1997, 2.2215372553504924),\n",
       "   (5, 2008, 1.723838472592471),\n",
       "   (1, 2009, 2.683365739272918)]]}"
      ]
     },
     "execution_count": 3,
     "metadata": {},
     "output_type": "execute_result"
    }
   ],
   "source": [
    "out"
   ]
  },
  {
   "cell_type": "code",
   "execution_count": 5,
   "metadata": {},
   "outputs": [],
   "source": [
    "k = [[[0,1,2],[0,2,1]],[[7,8,9]]]"
   ]
  },
  {
   "cell_type": "code",
   "execution_count": null,
   "metadata": {},
   "outputs": [],
   "source": [
    "k = [{x:1,2, y:2,1, labels:0,0}, {x:8, y:9, labels:7}]"
   ]
  },
  {
   "cell_type": "code",
   "execution_count": 10,
   "metadata": {},
   "outputs": [],
   "source": [
    "n = []\n",
    "for i in k:\n",
    "    x = \",\".join([str(l[1]) for l in i])\n",
    "    y = \",\".join([str(l[2]) for l in i])\n",
    "    labels = \",\".join([str(l[0]) for l in i])\n",
    "    res = \"|\".join([x,y,labels])\n",
    "    n.append(res)"
   ]
  },
  {
   "cell_type": "code",
   "execution_count": 12,
   "metadata": {},
   "outputs": [
    {
     "data": {
      "text/plain": [
       "'1,2|2,1|0,0||8|9|7'"
      ]
     },
     "execution_count": 12,
     "metadata": {},
     "output_type": "execute_result"
    }
   ],
   "source": [
    "\"||\".join(n)"
   ]
  },
  {
   "cell_type": "code",
   "execution_count": null,
   "metadata": {},
   "outputs": [],
   "source": []
  }
 ],
 "metadata": {
  "kernelspec": {
   "display_name": "Python 3",
   "language": "python",
   "name": "python3"
  },
  "language_info": {
   "codemirror_mode": {
    "name": "ipython",
    "version": 3
   },
   "file_extension": ".py",
   "mimetype": "text/x-python",
   "name": "python",
   "nbconvert_exporter": "python",
   "pygments_lexer": "ipython3",
   "version": "3.7.3"
  }
 },
 "nbformat": 4,
 "nbformat_minor": 2
}
